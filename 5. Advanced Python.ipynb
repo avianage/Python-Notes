{
 "cells": [
  {
   "cell_type": "markdown",
   "metadata": {},
   "source": [
    "## Advanced Topics:\n",
    "\n",
    "1. Iterators:\n",
    "    \n",
    "    -  An iterator is an object that represents a stream of data. \n",
    "    - It provides a way to access the elements of a container (like a list or a tuple) sequentially without exposing the underlying details of the container's implementation.\n",
    "    - An iterator must implement two methods:\n",
    "\n",
    "        - \\_\\_iter\\_\\_(): This method returns the iterator object itself. It is required for an object to be considered an iterator.\n",
    "        - \\_\\_next\\_\\_(): This method returns the next element in the container. When there are no more elements to return, it should raise the StopIteration exception to signal the end of the iteration."
   ]
  },
  {
   "cell_type": "code",
   "execution_count": null,
   "metadata": {},
   "outputs": [],
   "source": [
    "class MyIterator:\n",
    "    def __init__(self, data):\n",
    "        self.data = data\n",
    "        self.index = 0\n",
    "\n",
    "    def __iter__(self):\n",
    "        return self\n",
    "\n",
    "    def __next__(self):\n",
    "        if self.index < len(self.data):\n",
    "            result = self.data[self.index]\n",
    "            self.index += 1\n",
    "            return result\n",
    "        else:\n",
    "            raise StopIteration\n",
    "\n",
    "# Example usage:\n",
    "my_list = [1, 2, 3, 4, 5]\n",
    "my_iterator = MyIterator(my_list)\n",
    "\n",
    "for item in my_iterator:\n",
    "    print(item)\n"
   ]
  },
  {
   "cell_type": "markdown",
   "metadata": {},
   "source": [
    "2. Modules:\n",
    "\n",
    "    - A module is a file containing Python definitions and statements. \n",
    "    - The file name is the module name with the suffix \".py\" appended. \n",
    "    - Modules allow you to logically organize your Python code, making it more modular and easier to manage.\n",
    "\n",
    "    - Key points about modules in Python:\n",
    "\n",
    "        - <b>Organization: </b>Modules help organize code by grouping related functionality together. You can think of a module as a way to compartmentalize different aspects of your program.\n",
    "        - <b>Reuse:</b> Modules facilitate code reuse. You can write a module with certain functionalities and then reuse that module in other parts of your program or even in different projects.\n",
    "        - <b>Namespace Isolation:</b> Each module has its own namespace, which means that the names defined in a module don't clash with names in other modules or the main program. This helps avoid naming conflicts.\n",
    "        - <b>Importing Modules:</b> To use a module, you need to import it. The import statement is used for this purpose. \n",
    "        - <b>Module Creation:</b> You can create your own modules by writing Python code in a separate .py file. For example, if you have a file named my_module.py containing some functions, you can import and use them in another script by using import my_module.\n",
    "        - <b>Module Attributes:</b> Modules can have attributes, including variables, functions, and classes. You access these attributes using dot notation. For instance, if you have a function my_function in a module, you would call it like this: module_name.my_function().\n",
    "        - <b>Built-in Modules:</b> Python comes with a rich set of built-in modules that provide a wide range of functionalities. Examples include math, random, datetime, and more."
   ]
  },
  {
   "cell_type": "code",
   "execution_count": null,
   "metadata": {},
   "outputs": [],
   "source": [
    "# my_module.py\n",
    "\n",
    "def greet(name):\n",
    "    print(f\"Hello, {name}!\")\n",
    "\n",
    "def square(x):\n",
    "    return x ** 2\n"
   ]
  },
  {
   "cell_type": "code",
   "execution_count": null,
   "metadata": {},
   "outputs": [],
   "source": [
    "# main_script.py\n",
    "\n",
    "import my_module.py # here it wont work\n",
    "\n",
    "my_module.greet(\"Alice\")\n",
    "result = my_module.square(5)\n",
    "print(result)\n"
   ]
  },
  {
   "cell_type": "markdown",
   "metadata": {},
   "source": [
    "3. Regular Expression (REGEX):\n",
    "\n",
    "    - Regular expressions (regex or regexp) in Python are a powerful tool for pattern matching and manipulation of strings. \n",
    "    - The <b>re</b> module in Python provides support for regular expressions.\n",
    "\n",
    "    - Overview:\n",
    "        - Importing the re module: To use regular expressions in Python, you need to import the re module:\n",
    "        - Basic Patterns:\n",
    "            - . (dot): Matches any character except a newline.\n",
    "            - *: Matches 0 or more occurrences of the preceding character.\n",
    "            - +: Matches 1 or more occurrences of the preceding character.\n",
    "            - ?: Matches 0 or 1 occurrence of the preceding character.\n",
    "            - \\: Escapes special characters, allowing them to be treated as literal characters.\n",
    "\n",
    "        - Character Classes:\n",
    "            - [...]: Matches any single character inside the square brackets.\n",
    "            - [^...]: Matches any single character not inside the square brackets.\n",
    "            - -: Represents a range of characters inside square brackets.\n",
    "\n",
    "        - Anchors:\n",
    "            - ^: Matches the start of a string.\n",
    "            - $: Matches the end of a string.\n",
    "\n",
    "        - Quantifiers:\n",
    "            - {m}: Matches exactly m occurrences.\n",
    "            - {m, n}: Matches between m and n occurrences.\n",
    "\n",
    "        - Groups and Capture:\n",
    "            - (): Groups patterns together.\n",
    "            - (?:...): Non-capturing group.\n",
    "            - (?P<name>...): Named capturing group.\n",
    "\n",
    "        - Special Sequences:\n",
    "            - \\d: Matches any digit (0-9).\n",
    "            - \\D: Matches any non-digit.\n",
    "            - \\w: Matches any alphanumeric character.\n",
    "            - \\W: Matches any non-alphanumeric character.\n",
    "            - \\s: Matches any whitespace character.\n",
    "            - \\S: Matches any non-whitespace character."
   ]
  },
  {
   "cell_type": "code",
   "execution_count": null,
   "metadata": {},
   "outputs": [],
   "source": [
    "import re\n",
    "\n",
    "email_pattern = r'^[a-zA-Z0-9._%+-]+@[a-zA-Z0-9.-]+\\.[a-zA-Z]{2,}$'\n",
    "\n",
    "def validate_email(email):\n",
    "    if re.match(email_pattern, email):\n",
    "        return True\n",
    "    else:\n",
    "        return False\n",
    "\n",
    "# Example usage:\n",
    "email1 = 'user@example.com'\n",
    "email2 = 'invalid_email@invalid'\n",
    "\n",
    "print(validate_email(email1))  # True\n",
    "print(validate_email(email2))  # False\n"
   ]
  },
  {
   "cell_type": "markdown",
   "metadata": {},
   "source": [
    "4. Decorators:\n",
    "\n",
    "    - Decorators provide a way to modify or extend the behavior of functions or methods without changing their actual code. \n",
    "    - Decorators are applied using the @decorator syntax, and they are a powerful tool for code reuse and enhancing functionality. Here's an explanation along with an example:\n",
    "\n",
    "    - Basic Concept:\n",
    "        - Functions in Python are first-class objects, which means they can be passed around and used as arguments, returned from other functions, and assigned to variables.\n",
    "        - A decorator is a function that takes another function as an argument, adds or modifies some behavior, and then returns the modified function."
   ]
  },
  {
   "cell_type": "code",
   "execution_count": null,
   "metadata": {},
   "outputs": [],
   "source": [
    "# Syntax of Decorator:\n",
    "\n",
    "def my_decorator(func):\n",
    "    def wrapper():\n",
    "        print(\"Something is happening before the function is called.\")\n",
    "        func()\n",
    "        print(\"Something is happening after the function is called.\")\n",
    "    return wrapper\n",
    "\n",
    "@my_decorator\n",
    "def say_hello():\n",
    "    print(\"Hello!\")\n",
    "\n",
    "# Calling the decorated function\n",
    "say_hello()\n"
   ]
  },
  {
   "cell_type": "code",
   "execution_count": null,
   "metadata": {},
   "outputs": [],
   "source": [
    "# Decorator with Parameters:\n",
    "\n",
    "def repeat(n):\n",
    "    def decorator(func):\n",
    "        def wrapper(*args, **kwargs):\n",
    "            for _ in range(n):\n",
    "                result = func(*args, **kwargs)\n",
    "            return result\n",
    "        return wrapper\n",
    "    return decorator\n",
    "\n",
    "@repeat(3)\n",
    "def greet(name):\n",
    "    print(f\"Hello, {name}!\")\n",
    "\n",
    "# Calling the decorated function\n",
    "greet(\"Alice\")\n"
   ]
  },
  {
   "cell_type": "markdown",
   "metadata": {},
   "source": [
    "5. List Comprehension:\n",
    "\n",
    "    - List comprehension is a concise way to create lists in Python. \n",
    "    - It provides a more readable and often more efficient syntax for creating lists compared to using traditional loops. \n",
    "    \n",
    "    - The basic syntax of a list comprehension is:\n",
    "    \n",
    "            [expression for item in iterable if condition]\n",
    "        \n",
    "        - <b>expression:</b> The expression to be evaluated and included in the new list.\n",
    "\n",
    "        - <b>item:</b> The variable representing each element in the iterable.\n",
    "        \n",
    "        - <b>iterable:</b> The sequence or iterable (e.g., list, tuple, string) that you are iterating over.\n",
    "        \n",
    "        - <b>condition (optional):</b> An optional condition that filters the elements based on some criteria."
   ]
  },
  {
   "cell_type": "code",
   "execution_count": null,
   "metadata": {},
   "outputs": [
    {
     "ename": "",
     "evalue": "",
     "output_type": "error",
     "traceback": [
      "\u001b[1;31mRunning cells with 'c:\\Users\\Avianage\\AppData\\Local\\Microsoft\\WindowsApps\\python3.11.exe' requires the ipykernel package.\n",
      "\u001b[1;31mRun the following command to install 'ipykernel' into the Python environment. \n",
      "\u001b[1;31mCommand: 'c:/Users/Avianage/AppData/Local/Microsoft/WindowsApps/python3.11.exe -m pip install ipykernel -U --user --force-reinstall'"
     ]
    }
   ],
   "source": [
    "# Using a loop\n",
    "squares = []\n",
    "for i in range(5):\n",
    "    squares.append(i**2)\n",
    "\n",
    "# Using list comprehension\n",
    "squares_comp = [i**2 for i in range(5)]\n",
    "\n",
    "print(squares)       # Output: [0, 1, 4, 9, 16]\n",
    "print(squares_comp)  # Output: [0, 1, 4, 9, 16]\n"
   ]
  },
  {
   "cell_type": "code",
   "execution_count": null,
   "metadata": {},
   "outputs": [
    {
     "ename": "",
     "evalue": "",
     "output_type": "error",
     "traceback": [
      "\u001b[1;31mRunning cells with 'c:\\Users\\Avianage\\AppData\\Local\\Microsoft\\WindowsApps\\python3.11.exe' requires the ipykernel package.\n",
      "\u001b[1;31mRun the following command to install 'ipykernel' into the Python environment. \n",
      "\u001b[1;31mCommand: 'c:/Users/Avianage/AppData/Local/Microsoft/WindowsApps/python3.11.exe -m pip install ipykernel -U --user --force-reinstall'"
     ]
    }
   ],
   "source": [
    "# Using a loop\n",
    "even_numbers = []\n",
    "for i in range(10):\n",
    "    if i % 2 == 0:\n",
    "        even_numbers.append(i)\n",
    "\n",
    "# Using list comprehension\n",
    "even_numbers_comp = [i for i in range(10) if i % 2 == 0]\n",
    "\n",
    "print(even_numbers)      # Output: [0, 2, 4, 6, 8]\n",
    "print(even_numbers_comp) # Output: [0, 2, 4, 6, 8]\n"
   ]
  },
  {
   "cell_type": "code",
   "execution_count": null,
   "metadata": {},
   "outputs": [
    {
     "ename": "",
     "evalue": "",
     "output_type": "error",
     "traceback": [
      "\u001b[1;31mRunning cells with 'c:\\Users\\Avianage\\AppData\\Local\\Microsoft\\WindowsApps\\python3.11.exe' requires the ipykernel package.\n",
      "\u001b[1;31mRun the following command to install 'ipykernel' into the Python environment. \n",
      "\u001b[1;31mCommand: 'c:/Users/Avianage/AppData/Local/Microsoft/WindowsApps/python3.11.exe -m pip install ipykernel -U --user --force-reinstall'"
     ]
    }
   ],
   "source": [
    "# Using nested loops\n",
    "matrix = []\n",
    "for i in range(3):\n",
    "    row = []\n",
    "    for j in range(3):\n",
    "        row.append(i * j)\n",
    "    matrix.append(row)\n",
    "\n",
    "# Using nested list comprehension\n",
    "matrix_comp = [[i * j for j in range(3)] for i in range(3)]\n",
    "\n",
    "print(matrix)       # Output: [[0, 0, 0], [0, 1, 2], [0, 2, 4]]\n",
    "print(matrix_comp)  # Output: [[0, 0, 0], [0, 1, 2], [0, 2, 4]]\n"
   ]
  },
  {
   "cell_type": "markdown",
   "metadata": {},
   "source": [
    "6. Generator Expression:\n",
    "\n",
    "    - Generator expressions in Python are a concise way to create iterators, similar to list comprehensions, but with the advantage of producing values on-the-fly rather than creating a complete list in memory. \n",
    "    - This makes them more memory-efficient for large datasets. \n",
    "    - The syntax of a generator expression is similar to that of a list comprehension, but it uses parentheses () instead of square brackets [].\n",
    "\n",
    "    - The basic syntax is:\n",
    "    \n",
    "            (expression for item in iterable if condition)\n",
    "    \n",
    "        - <b>expression:</b> The expression to be evaluated and yielded.\n",
    "        - <b>item:</b> The variable representing each element in the iterable.\n",
    "        - <b>iterable:</b> The sequence or iterable (e.g., list, tuple, string) that you are iterating over.\n",
    "        - <b>condition (optional):</b> An optional condition that filters the elements based on some criteria."
   ]
  },
  {
   "cell_type": "code",
   "execution_count": null,
   "metadata": {},
   "outputs": [
    {
     "ename": "",
     "evalue": "",
     "output_type": "error",
     "traceback": [
      "\u001b[1;31mRunning cells with 'c:\\Users\\Avianage\\AppData\\Local\\Microsoft\\WindowsApps\\python3.11.exe' requires the ipykernel package.\n",
      "\u001b[1;31mRun the following command to install 'ipykernel' into the Python environment. \n",
      "\u001b[1;31mCommand: 'c:/Users/Avianage/AppData/Local/Microsoft/WindowsApps/python3.11.exe -m pip install ipykernel -U --user --force-reinstall'"
     ]
    }
   ],
   "source": [
    "# Using a list comprehension\n",
    "squares_list = [i**2 for i in range(5)]\n",
    "\n",
    "# Using a generator expression\n",
    "squares_generator = (i**2 for i in range(5))\n",
    "\n",
    "print(squares_list)        # Output: [0, 1, 4, 9, 16]\n",
    "print(list(squares_generator))  # Output: [0, 1, 4, 9, 16]\n"
   ]
  },
  {
   "cell_type": "code",
   "execution_count": null,
   "metadata": {},
   "outputs": [
    {
     "ename": "",
     "evalue": "",
     "output_type": "error",
     "traceback": [
      "\u001b[1;31mRunning cells with 'c:\\Users\\Avianage\\AppData\\Local\\Microsoft\\WindowsApps\\python3.11.exe' requires the ipykernel package.\n",
      "\u001b[1;31mRun the following command to install 'ipykernel' into the Python environment. \n",
      "\u001b[1;31mCommand: 'c:/Users/Avianage/AppData/Local/Microsoft/WindowsApps/python3.11.exe -m pip install ipykernel -U --user --force-reinstall'"
     ]
    }
   ],
   "source": [
    "squares_generator = (i**2 for i in range(5))\n",
    "\n",
    "# Using a loop\n",
    "for square in squares_generator:\n",
    "    print(square)\n",
    "\n",
    "# Using next()\n",
    "squares_generator = (i**2 for i in range(5))\n",
    "print(next(squares_generator))  # Output: 0\n",
    "print(next(squares_generator))  # Output: 1\n"
   ]
  },
  {
   "cell_type": "code",
   "execution_count": null,
   "metadata": {},
   "outputs": [
    {
     "ename": "",
     "evalue": "",
     "output_type": "error",
     "traceback": [
      "\u001b[1;31mRunning cells with 'c:\\Users\\Avianage\\AppData\\Local\\Microsoft\\WindowsApps\\python3.11.exe' requires the ipykernel package.\n",
      "\u001b[1;31mRun the following command to install 'ipykernel' into the Python environment. \n",
      "\u001b[1;31mCommand: 'c:/Users/Avianage/AppData/Local/Microsoft/WindowsApps/python3.11.exe -m pip install ipykernel -U --user --force-reinstall'"
     ]
    }
   ],
   "source": [
    "# Generator function\n",
    "def squares_generator_function(n):\n",
    "    for i in range(n):\n",
    "        yield i**2\n",
    "\n",
    "# Using generator function\n",
    "squares_generator = squares_generator_function(5)\n",
    "print(list(squares_generator))  # Output: [0, 1, 4, 9, 16]\n"
   ]
  }
 ],
 "metadata": {
  "kernelspec": {
   "display_name": "Python 3",
   "language": "python",
   "name": "python3"
  },
  "language_info": {
   "name": "python",
   "version": "3.11.7"
  }
 },
 "nbformat": 4,
 "nbformat_minor": 2
}
