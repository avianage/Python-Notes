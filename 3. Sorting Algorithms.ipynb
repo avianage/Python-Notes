{
 "cells": [
  {
   "cell_type": "markdown",
   "metadata": {},
   "source": [
    "## Sorting:\n",
    "\n",
    "1. Bubble Sort:\n",
    "    - A simple sorting algorithm that repeatedly steps through the list, compares adjacent elements, and swaps them if they are in the wrong order.\n",
    "    - The pass through the list is repeated until the list is sorted.\n",
    "\n",
    "    - Explanation:\n",
    "        - Start from the beginning of the list.\n",
    "        - Compare each pair of adjacent elements.\n",
    "        - If the elements are in the wrong order, swap them.\n",
    "        - Continue this process until the end of the list is reached.\n",
    "        - Repeat the process for each element in the list until no swaps are needed, indicating that the list is sorted."
   ]
  },
  {
   "cell_type": "code",
   "execution_count": 1,
   "metadata": {},
   "outputs": [
    {
     "name": "stdout",
     "output_type": "stream",
     "text": [
      "Original array: [64, 34, 25, 12, 22, 11, 90]\n",
      "Sorted array: [11, 12, 22, 25, 34, 64, 90]\n"
     ]
    }
   ],
   "source": [
    "def bubble_sort(arr):\n",
    "    n = len(arr)\n",
    "\n",
    "    # Traverse through all array elements\n",
    "    for i in range(n):\n",
    "        # Last i elements are already sorted, so we don't need to check them\n",
    "        for j in range(0, n - i - 1):\n",
    "            # Traverse the array from 0 to n - i - 1, swap if the element found is greater\n",
    "            # than the next element\n",
    "            if arr[j] > arr[j + 1]:\n",
    "                arr[j], arr[j + 1] = arr[j + 1], arr[j]\n",
    "\n",
    "# Example usage\n",
    "points = [64, 34, 25, 12, 22, 11, 90]\n",
    "print(\"Original array:\", points)\n",
    "\n",
    "bubble_sort(points)\n",
    "\n",
    "print(\"Sorted array:\", points)\n"
   ]
  },
  {
   "cell_type": "markdown",
   "metadata": {},
   "source": [
    "2. Merge Sort:\n",
    "    - Merge Sort is a divide-and-conquer algorithm. \n",
    "    - It works by dividing the input array into two halves, recursively sorting each half, and then merging the sorted halves to produce a single sorted array.\n",
    "    - Steps:\n",
    "        - Divide: Split the unsorted list into two halves.\n",
    "        - Conquer: Recursively sort each half.\n",
    "        - Combine: Merge the sorted halves to produce a single sorted array."
   ]
  },
  {
   "cell_type": "code",
   "execution_count": null,
   "metadata": {},
   "outputs": [],
   "source": [
    "def merge_sort(arr):\n",
    "    if len(arr) > 1:\n",
    "        mid = len(arr) // 2  # Find the middle of the array\n",
    "        left_half = arr[:mid]  # Divide the array into two halves\n",
    "        right_half = arr[mid:]\n",
    "\n",
    "        # Recursively sort each half\n",
    "        merge_sort(left_half)\n",
    "        merge_sort(right_half)\n",
    "\n",
    "        # Merge the sorted halves\n",
    "        i = j = k = 0\n",
    "        while i < len(left_half) and j < len(right_half):\n",
    "            if left_half[i] < right_half[j]:\n",
    "                arr[k] = left_half[i]\n",
    "                i += 1\n",
    "            else:\n",
    "                arr[k] = right_half[j]\n",
    "                j += 1\n",
    "            k += 1\n",
    "\n",
    "        # Check if any elements are remaining in the left or right halves\n",
    "        while i < len(left_half):\n",
    "            arr[k] = left_half[i]\n",
    "            i += 1\n",
    "            k += 1\n",
    "\n",
    "        while j < len(right_half):\n",
    "            arr[k] = right_half[j]\n",
    "            j += 1\n",
    "            k += 1\n",
    "\n",
    "# Example usage\n",
    "points = [64, 34, 25, 12, 22, 11, 90]\n",
    "print(\"Original array:\", points)\n",
    "\n",
    "merge_sort(points)\n",
    "\n",
    "print(\"Sorted array:\", points)\n"
   ]
  },
  {
   "cell_type": "markdown",
   "metadata": {},
   "source": [
    "3. Insertion Sort:\n",
    "    - Insertion Sort is a simple sorting algorithm that builds the final sorted array one item at a time. \n",
    "    - It is much less efficient on large lists than more advanced algorithms such as quicksort, heapsort, or merge sort. \n",
    "    - However, it performs well for small datasets or partially sorted datasets.\n",
    "\n",
    "    - Steps:\n",
    "        - Build: Iterate through the array, considering one element at a time.\n",
    "        - Insert: Take each element and insert it into its correct position among the sorted elements on the left."
   ]
  },
  {
   "cell_type": "code",
   "execution_count": null,
   "metadata": {},
   "outputs": [],
   "source": [
    "def insertion_sort(arr):\n",
    "    for i in range(1, len(arr)):\n",
    "        key = arr[i]\n",
    "        j = i - 1\n",
    "\n",
    "        # Move elements of arr[0..i-1] that are greater than key to one position ahead of their current position\n",
    "        while j >= 0 and key < arr[j]:\n",
    "            arr[j + 1] = arr[j]\n",
    "            j -= 1\n",
    "\n",
    "        arr[j + 1] = key\n",
    "\n",
    "# Example usage\n",
    "points = [64, 34, 25, 12, 22, 11, 90]\n",
    "print(\"Original array:\", points)\n",
    "\n",
    "insertion_sort(points)\n",
    "\n",
    "print(\"Sorted array:\", points)\n"
   ]
  },
  {
   "cell_type": "markdown",
   "metadata": {},
   "source": [
    "4. Shell Sort:\n",
    "    - Shell Sort is an in-place comparison-based sorting algorithm that improves on the insertion sort by sorting distant elements first. \n",
    "    - It works by comparing elements that are separated by a certain gap and gradually reducing the gap.\n",
    "\n",
    "    - Steps:\n",
    "        - Choose a gap (h), which represents the number of elements between compared elements.\n",
    "        - Starting with the elements that are h positions apart, perform insertion sort on each subarray.\n",
    "        - Gradually reduce the gap and repeat the process until the gap becomes 1."
   ]
  },
  {
   "cell_type": "code",
   "execution_count": null,
   "metadata": {},
   "outputs": [],
   "source": [
    "def shell_sort(arr):\n",
    "    n = len(arr)\n",
    "    gap = n // 2  # Start with a large gap and reduce it\n",
    "\n",
    "    while gap > 0:\n",
    "        for i in range(gap, n):\n",
    "            temp = arr[i]\n",
    "            j = i\n",
    "\n",
    "            # Shift earlier gap-sorted elements until the correct position is found\n",
    "            while j >= gap and arr[j - gap] > temp:\n",
    "                arr[j] = arr[j - gap]\n",
    "                j -= gap\n",
    "\n",
    "            # Put the element in its correct position\n",
    "            arr[j] = temp\n",
    "\n",
    "        gap //= 2  # Reduce the gap\n",
    "\n",
    "# Example usage\n",
    "points = [64, 34, 25, 12, 22, 11, 90]\n",
    "print(\"Original array:\", points)\n",
    "\n",
    "shell_sort(points)\n",
    "\n",
    "print(\"Sorted array:\", points)\n"
   ]
  },
  {
   "cell_type": "markdown",
   "metadata": {},
   "source": [
    "5. Selection Sort:\n",
    "    - Selection Sort is a simple sorting algorithm that divides the input list into a sorted and an unsorted region. \n",
    "    - It repeatedly selects the smallest (or largest) element from the unsorted region and swaps it with the first unsorted element.\n",
    "\n",
    "    - Steps:\n",
    "        - Find Minimum: Iterate through the unsorted region to find the minimum element.\n",
    "        - Swap: Swap the found minimum element with the first element in the unsorted region.\n",
    "        - Expand Sorted Region: Expand the sorted region to include the newly sorted element.\n",
    "        - Repeat: Repeat the process until the entire array is sorted."
   ]
  },
  {
   "cell_type": "code",
   "execution_count": null,
   "metadata": {},
   "outputs": [],
   "source": [
    "def selection_sort(arr):\n",
    "    n = len(arr)\n",
    "\n",
    "    for i in range(n):\n",
    "        # Find the minimum element in the unsorted region\n",
    "        min_index = i\n",
    "        for j in range(i + 1, n):\n",
    "            if arr[j] < arr[min_index]:\n",
    "                min_index = j\n",
    "\n",
    "        # Swap the found minimum element with the first element\n",
    "        arr[i], arr[min_index] = arr[min_index], arr[i]\n",
    "\n",
    "# Example usage\n",
    "points = [64, 34, 25, 12, 22, 11, 90]\n",
    "print(\"Original array:\", points)\n",
    "\n",
    "selection_sort(points)\n",
    "\n",
    "print(\"Sorted array:\", points)\n"
   ]
  },
  {
   "cell_type": "markdown",
   "metadata": {},
   "source": [
    "6. Quick Sort:\n",
    "    - QuickSort is a popular divide-and-conquer sorting algorithm that works by selecting a 'pivot' element from the array and partitioning the other elements into two sub-arrays according to whether they are less than or greater than the pivot. \n",
    "    - The sub-arrays are then sorted recursively.\n",
    "    \n",
    "    - Steps:\n",
    "        - Choose Pivot: Select a pivot element from the array.\n",
    "        - Partitioning: Rearrange the array elements such that elements smaller than the pivot are on the left, and elements greater than the pivot are on the right.\n",
    "        - Recursion: Apply the QuickSort algorithm recursively to the left and right sub-arrays. "
   ]
  },
  {
   "cell_type": "code",
   "execution_count": null,
   "metadata": {},
   "outputs": [],
   "source": [
    "def quick_sort(arr, low, high):\n",
    "    if low < high:\n",
    "        # Find the partition index\n",
    "        pi = partition(arr, low, high)\n",
    "\n",
    "        # Recursively sort the sub-arrays\n",
    "        quick_sort(arr, low, pi - 1)\n",
    "        quick_sort(arr, pi + 1, high)\n",
    "\n",
    "def partition(arr, low, high):\n",
    "    pivot = arr[high]  # Choose the rightmost element as the pivot\n",
    "    i = low - 1  # Index of the smaller element\n",
    "\n",
    "    for j in range(low, high):\n",
    "        # If the current element is smaller than or equal to the pivot\n",
    "        if arr[j] <= pivot:\n",
    "            # Swap arr[i] and arr[j]\n",
    "            i += 1\n",
    "            arr[i], arr[j] = arr[j], arr[i]\n",
    "\n",
    "    # Swap arr[i+1] and arr[high] (put the pivot in its correct position)\n",
    "    arr[i + 1], arr[high] = arr[high], arr[i + 1]\n",
    "    return i + 1\n",
    "\n",
    "# Example usage\n",
    "points = [64, 34, 25, 12, 22, 11, 90]\n",
    "print(\"Original array:\", points)\n",
    "\n",
    "quick_sort(points, 0, len(points) - 1)\n",
    "\n",
    "print(\"Sorted array:\", points)\n"
   ]
  }
 ],
 "metadata": {
  "kernelspec": {
   "display_name": "Python 3",
   "language": "python",
   "name": "python3"
  },
  "language_info": {
   "codemirror_mode": {
    "name": "ipython",
    "version": 3
   },
   "file_extension": ".py",
   "mimetype": "text/x-python",
   "name": "python",
   "nbconvert_exporter": "python",
   "pygments_lexer": "ipython3",
   "version": "3.12.1"
  }
 },
 "nbformat": 4,
 "nbformat_minor": 2
}
