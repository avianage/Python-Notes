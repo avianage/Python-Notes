{
 "cells": [
  {
   "cell_type": "markdown",
   "metadata": {},
   "source": [
    "## Searching Algorithms:\n",
    "\n",
    "1. Linear Search:\n",
    "    - Implementation: Linear search can be implemented using a simple loop to iterate through the list or array until the desired element is found."
   ]
  },
  {
   "cell_type": "code",
   "execution_count": 1,
   "metadata": {},
   "outputs": [
    {
     "name": "stdout",
     "output_type": "stream",
     "text": [
      "Linear Search: Index of 7 is 2\n"
     ]
    }
   ],
   "source": [
    "def linear_search(arr, target):\n",
    "    for i in range(len(arr)):\n",
    "        if arr[i] == target:\n",
    "            return i\n",
    "    return -1\n",
    "\n",
    "# Example usage:\n",
    "my_list = [4, 2, 7, 1, 9]\n",
    "target_value = 7\n",
    "result = linear_search(my_list, target_value)\n",
    "print(f\"Linear Search: Index of {target_value} is {result}\")\n"
   ]
  },
  {
   "cell_type": "markdown",
   "metadata": {},
   "source": [
    "2. Binary Search:\n",
    "\n",
    "    - Binary search is applicable only on sorted lists or arrays.\n",
    "    - Binary search involves repeatedly dividing the search space in half until the target element is found."
   ]
  },
  {
   "cell_type": "code",
   "execution_count": 2,
   "metadata": {},
   "outputs": [
    {
     "name": "stdout",
     "output_type": "stream",
     "text": [
      "Binary Search: Index of 7 is 3\n"
     ]
    }
   ],
   "source": [
    "def binary_search(arr, target):\n",
    "    low, high = 0, len(arr) - 1\n",
    "    while low <= high:\n",
    "        mid = (low + high) // 2\n",
    "        if arr[mid] == target:\n",
    "            return mid\n",
    "        elif arr[mid] < target:\n",
    "            low = mid + 1\n",
    "        else:\n",
    "            high = mid - 1\n",
    "    return -1\n",
    "\n",
    "# Example usage:\n",
    "sorted_list = [1, 2, 4, 7, 9]\n",
    "target_value = 7\n",
    "result = binary_search(sorted_list, target_value)\n",
    "print(f\"Binary Search: Index of {target_value} is {result}\")\n"
   ]
  },
  {
   "cell_type": "markdown",
   "metadata": {},
   "source": [
    "3. Hashing (using dictionary):\n",
    "\n",
    "    - In Python, dictionaries provide a form of searching using hashing. You can access elements directly using keys."
   ]
  },
  {
   "cell_type": "code",
   "execution_count": 3,
   "metadata": {},
   "outputs": [
    {
     "name": "stdout",
     "output_type": "stream",
     "text": [
      "Hashing: Value of key b is 2\n"
     ]
    }
   ],
   "source": [
    "my_dict = {'a': 1, 'b': 2, 'c': 3}\n",
    "\n",
    "# Example usage:\n",
    "key_to_find = 'b'\n",
    "value = my_dict.get(key_to_find, -1)\n",
    "print(f\"Hashing: Value of key {key_to_find} is {value}\")\n"
   ]
  },
  {
   "cell_type": "markdown",
   "metadata": {},
   "source": [
    "4. Internpolation Search:\n",
    "\n",
    "    - Interpolation search is efficient for uniformly distributed sorted arrays.\n",
    "    - It uses a formula to estimate the probable position of the target element."
   ]
  },
  {
   "cell_type": "code",
   "execution_count": 4,
   "metadata": {},
   "outputs": [
    {
     "name": "stdout",
     "output_type": "stream",
     "text": [
      "Interpolation Search: Index of 7 is 3\n"
     ]
    }
   ],
   "source": [
    "def interpolation_search(arr, target):\n",
    "    low, high = 0, len(arr) - 1\n",
    "    while low <= high and arr[low] <= target <= arr[high]:\n",
    "        pos = low + ((target - arr[low]) * (high - low)) // (arr[high] - arr[low])\n",
    "        if arr[pos] == target:\n",
    "            return pos\n",
    "        elif arr[pos] < target:\n",
    "            low = pos + 1\n",
    "        else:\n",
    "            high = pos - 1\n",
    "    return -1\n",
    "\n",
    "# Example usage:\n",
    "sorted_list = [1, 2, 4, 7, 9]\n",
    "target_value = 7\n",
    "result = interpolation_search(sorted_list, target_value)\n",
    "print(f\"Interpolation Search: Index of {target_value} is {result}\")\n"
   ]
  }
 ],
 "metadata": {
  "kernelspec": {
   "display_name": "Python 3",
   "language": "python",
   "name": "python3"
  },
  "language_info": {
   "codemirror_mode": {
    "name": "ipython",
    "version": 3
   },
   "file_extension": ".py",
   "mimetype": "text/x-python",
   "name": "python",
   "nbconvert_exporter": "python",
   "pygments_lexer": "ipython3",
   "version": "3.12.1"
  }
 },
 "nbformat": 4,
 "nbformat_minor": 2
}
