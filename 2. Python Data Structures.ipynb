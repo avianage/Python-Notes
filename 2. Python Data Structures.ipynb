{
 "cells": [
  {
   "cell_type": "markdown",
   "metadata": {},
   "source": [
    "### Data Structures in Python:\n",
    "\n",
    "1. Arrays:\n",
    "    - Homogenous sequence of data\n",
    "    - More memory efficient that lists for certain types\n",
    "    - Need to be imported from <b>array</b> module.\n",
    "    - Syntax: my_array = module.array(data_type, value_list)\n",
    "    - Here, the data type will be as follows:\n",
    "\n",
    "        ![Type Code](https://www.askpython.com/wp-content/uploads/2019/09/python-array-supported-type-code-1024x624.png.webp)"
   ]
  },
  {
   "cell_type": "code",
   "execution_count": 1,
   "metadata": {},
   "outputs": [
    {
     "name": "stdout",
     "output_type": "stream",
     "text": [
      "Original array: array('i', [1, 2, 3, 4, 5])\n",
      "First element: 1\n",
      "Modified array: array('i', [1, 10, 3, 4, 5])\n",
      "Array after append: array('i', [1, 10, 3, 4, 5, 6])\n",
      "Array after extending: array('i', [1, 10, 3, 4, 5, 6, 7, 8, 9])\n",
      "Array after removing 3: array('i', [1, 10, 4, 5, 6, 7, 8, 9])\n",
      "Result array after addition: array('i', [1, 10, 4, 5, 6, 7, 8, 9, 10, 10, 10])\n"
     ]
    }
   ],
   "source": [
    "from array import array\n",
    "\n",
    "# Create an integer array\n",
    "int_array = array('i', [1, 2, 3, 4, 5])\n",
    "\n",
    "# Access elements\n",
    "print(\"Original array:\", int_array)\n",
    "print(\"First element:\", int_array[0])\n",
    "\n",
    "# Modify an element\n",
    "int_array[1] = 10\n",
    "print(\"Modified array:\", int_array)\n",
    "\n",
    "# Append an element\n",
    "int_array.append(6)\n",
    "print(\"Array after append:\", int_array)\n",
    "\n",
    "# Use array methods\n",
    "int_array.extend([7, 8, 9])\n",
    "print(\"Array after extending:\", int_array)\n",
    "\n",
    "# Remove an element\n",
    "int_array.remove(3)\n",
    "print(\"Array after removing 3:\", int_array)\n",
    "\n",
    "# Basic array operations (element-wise addition)\n",
    "result_array = int_array + array('i', [10, 10, 10])\n",
    "print(\"Result array after addition:\", result_array)\n"
   ]
  },
  {
   "cell_type": "markdown",
   "metadata": {},
   "source": [
    "2. Linked List:\n",
    "\n",
    "    - Linear Data Structures Similar to Arrays.\n",
    "    - Collection of nodes linked to each other.\n",
    "    - Diagram:\n",
    "    \n",
    "        ![Linked List Graphical Representation](https://media.geeksforgeeks.org/wp-content/uploads/20220816144425/LLdrawio.png)"
   ]
  },
  {
   "cell_type": "code",
   "execution_count": 2,
   "metadata": {},
   "outputs": [
    {
     "name": "stdout",
     "output_type": "stream",
     "text": [
      "1 -> 2 -> 3 -> None\n",
      "0 -> 1 -> 2 -> 3 -> None\n",
      "0 -> 1 -> 2 -> 2.5 -> 3 -> None\n",
      "1 -> 2 -> 2.5 -> 3 -> None\n",
      "1 -> 2 -> 2.5 -> None\n",
      "1 -> 2.5 -> None\n",
      "1 -> 2.5 -> None\n"
     ]
    }
   ],
   "source": [
    "class Node:\n",
    "    def __init__(self, data=None):\n",
    "        self.data = data\n",
    "        self.next = None\n",
    "\n",
    "\n",
    "class LinkedList:\n",
    "    def __init__(self):\n",
    "        self.head = None\n",
    "\n",
    "    def display(self):\n",
    "        current = self.head\n",
    "        while current:\n",
    "            print(current.data, end=\" -> \")\n",
    "            current = current.next\n",
    "        print(\"None\")\n",
    "\n",
    "    def insert_at_beginning(self, data):\n",
    "        new_node = Node(data)\n",
    "        new_node.next = self.head\n",
    "        self.head = new_node\n",
    "\n",
    "    def insert_at_end(self, data):\n",
    "        new_node = Node(data)\n",
    "        if not self.head:\n",
    "            self.head = new_node\n",
    "            return\n",
    "        current = self.head\n",
    "        while current.next:\n",
    "            current = current.next\n",
    "        current.next = new_node\n",
    "\n",
    "    def insert_after_node(self, prev_node_data, data):\n",
    "        new_node = Node(data)\n",
    "        current = self.head\n",
    "        while current:\n",
    "            if current.data == prev_node_data:\n",
    "                new_node.next = current.next\n",
    "                current.next = new_node\n",
    "                break\n",
    "            current = current.next\n",
    "\n",
    "    def delete_at_beginning(self):\n",
    "        if self.head:\n",
    "            self.head = self.head.next\n",
    "\n",
    "    def delete_at_end(self):\n",
    "        if not self.head or not self.head.next:\n",
    "            self.head = None\n",
    "            return\n",
    "        current = self.head\n",
    "        while current.next.next:\n",
    "            current = current.next\n",
    "        current.next = None\n",
    "\n",
    "    def delete_after_node(self, prev_node_data):\n",
    "        current = self.head\n",
    "        while current:\n",
    "            if current.data == prev_node_data and current.next:\n",
    "                current.next = current.next.next\n",
    "                break\n",
    "            current = current.next\n",
    "\n",
    "    def update_node_data(self, old_data, new_data):\n",
    "        current = self.head\n",
    "        while current:\n",
    "            if current.data == old_data:\n",
    "                current.data = new_data\n",
    "                break\n",
    "            current = current.next\n",
    "\n",
    "\n",
    "# Example usage:\n",
    "linked_list = LinkedList()\n",
    "\n",
    "linked_list.insert_at_end(1)\n",
    "linked_list.insert_at_end(2)\n",
    "linked_list.insert_at_end(3)\n",
    "linked_list.display()\n",
    "\n",
    "linked_list.insert_at_beginning(0)\n",
    "linked_list.display()\n",
    "\n",
    "linked_list.insert_after_node(2, 2.5)\n",
    "linked_list.display()\n",
    "\n",
    "linked_list.delete_at_beginning()\n",
    "linked_list.display()\n",
    "\n",
    "linked_list.delete_at_end()\n",
    "linked_list.display()\n",
    "\n",
    "linked_list.delete_after_node(1)\n",
    "linked_list.display()\n",
    "\n",
    "linked_list.update_node_data(2, 20)\n",
    "linked_list.display()\n"
   ]
  },
  {
   "cell_type": "markdown",
   "metadata": {},
   "source": [
    "3. Stack:\n",
    "\n",
    "    - Linear Data Structure that stores items in <b>Last In First Out (LIFO)</b> manner.\n",
    "    - Stack Functions:\n",
    "        - <b>empty()</b> – Returns whether the stack is empty – Time Complexity: O(1)\n",
    "        - <b>size()</b> – Returns the size of the stack – Time Complexity: O(1)\n",
    "        - <b>top() / peek()</b> – Returns a reference to the topmost element of the stack – Time Complexity: O(1)\n",
    "        - <b>push(a)</b> – Inserts the element ‘a’ at the top of the stack – Time Complexity: O(1)\n",
    "        - <b>pop()</b> – Deletes the topmost element of the stack – Time Complexity: O(1)\n",
    "    - Implementation Methods:\n",
    "        - Using a <b>List</b>.\n",
    "        - Using <b>Collections.deque</b> module.\n",
    "        - Using <b>queue.LifoQueue</b> module."
   ]
  },
  {
   "cell_type": "code",
   "execution_count": 3,
   "metadata": {},
   "outputs": [
    {
     "name": "stdout",
     "output_type": "stream",
     "text": [
      "Using List - Popped: 3\n",
      "Using List - Stack: [1, 2]\n"
     ]
    }
   ],
   "source": [
    "# Stack implementation using List:\n",
    "\n",
    "stack_list = []\n",
    "\n",
    "# Push operation\n",
    "stack_list.append(1)\n",
    "stack_list.append(2)\n",
    "stack_list.append(3)\n",
    "\n",
    "# Pop operation\n",
    "pop_element = stack_list.pop()\n",
    "print(\"Using List - Popped:\", pop_element)\n",
    "print(\"Using List - Stack:\", stack_list)\n"
   ]
  },
  {
   "cell_type": "code",
   "execution_count": 4,
   "metadata": {},
   "outputs": [
    {
     "name": "stdout",
     "output_type": "stream",
     "text": [
      "Using deque - Popped: 3\n",
      "Using deque - Stack: deque([1, 2])\n"
     ]
    }
   ],
   "source": [
    "from collections import deque\n",
    "\n",
    "# Stack implementation using deque\n",
    "stack_deque = deque()\n",
    "\n",
    "# Push operation\n",
    "stack_deque.append(1)\n",
    "stack_deque.append(2)\n",
    "stack_deque.append(3)\n",
    "\n",
    "# Pop operation\n",
    "pop_element = stack_deque.pop()\n",
    "print(\"Using deque - Popped:\", pop_element)\n",
    "print(\"Using deque - Stack:\", stack_deque)\n"
   ]
  },
  {
   "cell_type": "code",
   "execution_count": 5,
   "metadata": {},
   "outputs": [
    {
     "name": "stdout",
     "output_type": "stream",
     "text": [
      "Using LifoQueue - Popped: 3\n"
     ]
    }
   ],
   "source": [
    "from queue import LifoQueue\n",
    "\n",
    "# Stack implementation using LifoQueue\n",
    "stack_lifo = LifoQueue()\n",
    "\n",
    "# Push operation\n",
    "stack_lifo.put(1)\n",
    "stack_lifo.put(2)\n",
    "stack_lifo.put(3)\n",
    "\n",
    "# Pop operation\n",
    "pop_element = stack_lifo.get()\n",
    "print(\"Using LifoQueue - Popped:\", pop_element)\n"
   ]
  },
  {
   "cell_type": "markdown",
   "metadata": {},
   "source": [
    "4. Queue:\n",
    "\n",
    "    - Linear Data Structure that stores items in <b>First In First Out (FIFO)</b> manner.\n",
    "    - Queue Functions:\n",
    "        - Enqueue: Adds an item to the queue. If the queue is full, then it is said to be an Overflow condition [Time Complexity : O(1)]\n",
    "        - Dequeue: Removes an item from the queue. The items are popped in the same order in which they are pushed. If the queue is empty, then it is said to be an Underflow condition. [Time Complexity : O(1)]\n",
    "        - Front: Get the front item from queue. [Time Complexity : O(1)]\n",
    "        - Rear: Get the last item from queue. [Time Complexity : O(1)]\n",
    "    \n",
    "    - Implementation Methods:\n",
    "        - Using a <b>List</b>.\n",
    "        - Using <b>Collections.deque</b> module.\n",
    "        - Using <b>queue.Queue</b> module."
   ]
  },
  {
   "cell_type": "code",
   "execution_count": 6,
   "metadata": {},
   "outputs": [
    {
     "name": "stdout",
     "output_type": "stream",
     "text": [
      "Using List - Dequeued: 1\n",
      "Using List - Queue: [2, 3]\n"
     ]
    }
   ],
   "source": [
    "# Queue implementation using list\n",
    "queue_list = []\n",
    "\n",
    "# Enqueue operation\n",
    "queue_list.append(1)\n",
    "queue_list.append(2)\n",
    "queue_list.append(3)\n",
    "\n",
    "# Dequeue operation\n",
    "dequeue_element = queue_list.pop(0)\n",
    "print(\"Using List - Dequeued:\", dequeue_element)\n",
    "print(\"Using List - Queue:\", queue_list)\n"
   ]
  },
  {
   "cell_type": "code",
   "execution_count": 7,
   "metadata": {},
   "outputs": [
    {
     "name": "stdout",
     "output_type": "stream",
     "text": [
      "Using deque - Dequeued: 1\n",
      "Using deque - Queue: deque([2, 3])\n"
     ]
    }
   ],
   "source": [
    "from collections import deque\n",
    "\n",
    "# Queue implementation using deque\n",
    "queue_deque = deque()\n",
    "\n",
    "# Enqueue operation\n",
    "queue_deque.append(1)\n",
    "queue_deque.append(2)\n",
    "queue_deque.append(3)\n",
    "\n",
    "# Dequeue operation\n",
    "dequeue_element = queue_deque.popleft()\n",
    "print(\"Using deque - Dequeued:\", dequeue_element)\n",
    "print(\"Using deque - Queue:\", queue_deque)\n"
   ]
  },
  {
   "cell_type": "code",
   "execution_count": 8,
   "metadata": {},
   "outputs": [
    {
     "name": "stdout",
     "output_type": "stream",
     "text": [
      "Using Queue - Dequeued: 1\n"
     ]
    }
   ],
   "source": [
    "from queue import Queue\n",
    "\n",
    "# Queue implementation using Queue\n",
    "queue_queue = Queue()\n",
    "\n",
    "# Enqueue operation\n",
    "queue_queue.put(1)\n",
    "queue_queue.put(2)\n",
    "queue_queue.put(3)\n",
    "\n",
    "# Dequeue operation\n",
    "dequeue_element = queue_queue.get()\n",
    "print(\"Using Queue - Dequeued:\", dequeue_element)\n"
   ]
  },
  {
   "cell_type": "markdown",
   "metadata": {},
   "source": [
    "5. Heap:\n",
    "    - Represents a <b>Priority Queue</b>.\n",
    "    - Implemented by <b>heapq</b> Module."
   ]
  },
  {
   "cell_type": "code",
   "execution_count": 9,
   "metadata": {},
   "outputs": [
    {
     "name": "stdout",
     "output_type": "stream",
     "text": [
      "Min-Heap: [1, 2, 4, 3]\n",
      "Popped: 1\n",
      "Min-Heap after pop: [2, 3, 4]\n"
     ]
    }
   ],
   "source": [
    "import heapq\n",
    "\n",
    "# Example of a min-heap\n",
    "min_heap = []\n",
    "\n",
    "# Using heapq to push elements onto the heap\n",
    "heapq.heappush(min_heap, 3)\n",
    "heapq.heappush(min_heap, 1)\n",
    "heapq.heappush(min_heap, 4)\n",
    "heapq.heappush(min_heap, 2)\n",
    "\n",
    "print(\"Min-Heap:\", min_heap)\n",
    "\n",
    "# Using heapq to pop the smallest element from the heap\n",
    "pop_element = heapq.heappop(min_heap)\n",
    "print(\"Popped:\", pop_element)\n",
    "print(\"Min-Heap after pop:\", min_heap)\n"
   ]
  },
  {
   "cell_type": "markdown",
   "metadata": {},
   "source": [
    "6. Hash Tables:\n",
    "    - also knowns as hash map, implements on associative array abstract data type.\n",
    "    - Working of Hash Table:\n",
    "        - Hash Function:\n",
    "            - A hash function takes a key as input and produces a hash code, which is usually an integer.\n",
    "            - The hash code is used as an index to access the corresponding bucket in the array.\n",
    "        \n",
    "        - Array of Buckets:\n",
    "            - The hash table consists of an array (or a collection of linked lists) of \"buckets\" or \"slots.\"\n",
    "            - Each bucket can store a key-value pair or a pointer to a linked list of key-value pairs.\n",
    "\n",
    "        - Collision Handling:\n",
    "            - Since multiple keys might hash to the same index (collision), collision resolution strategies are employed.\n",
    "            - Common methods include separate chaining (using linked lists at each bucket) or open addressing (finding the next available slot in the array).\n",
    "\n",
    "        - Operations:\n",
    "            - Insertion: The key and its associated value are hashed to find the index, and the key-value pair is placed in the corresponding bucket.\n",
    "            - Lookup: The key is hashed to find the index, and the associated value is retrieved from the bucket.\n",
    "            - Deletion: The key is hashed to find the index, and the corresponding key-value pair is removed from the bucket."
   ]
  },
  {
   "cell_type": "code",
   "execution_count": 10,
   "metadata": {},
   "outputs": [
    {
     "name": "stdout",
     "output_type": "stream",
     "text": [
      "Value for 'apple': 5\n",
      "Value for 'orange': 8\n",
      "Updated value for 'banana': 10\n",
      "'kiwi' in hash_table: False\n",
      "Hash table after deleting 'grape': {'apple': 5, 'banana': 10, 'orange': 8}\n"
     ]
    }
   ],
   "source": [
    "# Example of a hash table using a dictionary\n",
    "hash_table = {}\n",
    "\n",
    "# Inserting key-value pairs into the hash table\n",
    "hash_table['apple'] = 5\n",
    "hash_table['banana'] = 2\n",
    "hash_table['orange'] = 8\n",
    "hash_table['grape'] = 3\n",
    "\n",
    "# Accessing values using keys\n",
    "print(\"Value for 'apple':\", hash_table['apple'])\n",
    "print(\"Value for 'orange':\", hash_table['orange'])\n",
    "\n",
    "# Updating a value\n",
    "hash_table['banana'] = 10\n",
    "print(\"Updated value for 'banana':\", hash_table['banana'])\n",
    "\n",
    "# Checking if a key is present\n",
    "print(\"'kiwi' in hash_table:\", 'kiwi' in hash_table)\n",
    "\n",
    "# Deleting a key-value pair\n",
    "del hash_table['grape']\n",
    "print(\"Hash table after deleting 'grape':\", hash_table)\n"
   ]
  },
  {
   "cell_type": "markdown",
   "metadata": {},
   "source": [
    "7. Binary Search Tree:\n",
    "    - The left subtree of a node contains only nodes with keys lesser than the node’s key.\n",
    "    - The right subtree of a node contains only nodes with keys greater than the node’s key.\n",
    "    - The left and right subtree each must also be a binary search tree.\n",
    "    - Diagram:\n",
    "\n",
    "    ![Binary Search Tree](https://media.geeksforgeeks.org/wp-content/cdn-uploads/20221215114732/bst-21.png)"
   ]
  },
  {
   "cell_type": "code",
   "execution_count": 11,
   "metadata": {},
   "outputs": [
    {
     "name": "stdout",
     "output_type": "stream",
     "text": [
      "Inorder Traversal: [3, 5, 7, 10, 15]\n"
     ]
    }
   ],
   "source": [
    "class Node:\n",
    "    def __init__(self, key):\n",
    "        self.key = key\n",
    "        self.left = None\n",
    "        self.right = None\n",
    "\n",
    "class BinarySearchTree:\n",
    "    def __init__(self):\n",
    "        self.root = None\n",
    "\n",
    "    def insert(self, key):\n",
    "        self.root = self._insert(self.root, key)\n",
    "\n",
    "    def _insert(self, root, key):\n",
    "        if root is None:\n",
    "            return Node(key)\n",
    "        if key < root.key:\n",
    "            root.left = self._insert(root.left, key)\n",
    "        elif key > root.key:\n",
    "            root.right = self._insert(root.right, key)\n",
    "        return root\n",
    "\n",
    "    def inorder_traversal(self, root):\n",
    "        result = []\n",
    "        if root:\n",
    "            result += self.inorder_traversal(root.left)\n",
    "            result.append(root.key)\n",
    "            result += self.inorder_traversal(root.right)\n",
    "        return result\n",
    "\n",
    "# Example usage:\n",
    "bst = BinarySearchTree()\n",
    "bst.insert(10)\n",
    "bst.insert(5)\n",
    "bst.insert(15)\n",
    "bst.insert(3)\n",
    "bst.insert(7)\n",
    "\n",
    "print(\"Inorder Traversal:\", bst.inorder_traversal(bst.root))\n"
   ]
  }
 ],
 "metadata": {
  "kernelspec": {
   "display_name": "Python 3",
   "language": "python",
   "name": "python3"
  },
  "language_info": {
   "codemirror_mode": {
    "name": "ipython",
    "version": 3
   },
   "file_extension": ".py",
   "mimetype": "text/x-python",
   "name": "python",
   "nbconvert_exporter": "python",
   "pygments_lexer": "ipython3",
   "version": "3.12.1"
  }
 },
 "nbformat": 4,
 "nbformat_minor": 2
}
