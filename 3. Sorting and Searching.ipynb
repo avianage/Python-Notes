{
 "cells": [
  {
   "cell_type": "markdown",
   "metadata": {},
   "source": [
    "## Sorting:\n",
    "\n",
    "1. Bubble Sort:\n",
    "    - A simple sorting algorithm that repeatedly steps through the list, compares adjacent elements, and swaps them if they are in the wrong order.\n",
    "    - The pass through the list is repeated until the list is sorted.\n",
    "\n",
    "    - Explanation:\n",
    "        - Start from the beginning of the list.\n",
    "        - Compare each pair of adjacent elements.\n",
    "        - If the elements are in the wrong order, swap them.\n",
    "        - Continue this process until the end of the list is reached.\n",
    "        - Repeat the process for each element in the list until no swaps are needed, indicating that the list is sorted."
   ]
  },
  {
   "cell_type": "code",
   "execution_count": null,
   "metadata": {},
   "outputs": [],
   "source": [
    "def bubble_sort(arr):\n",
    "    n = len(arr)\n",
    "\n",
    "    # Traverse through all array elements\n",
    "    for i in range(n):\n",
    "        # Last i elements are already sorted, so we don't need to check them\n",
    "        for j in range(0, n - i - 1):\n",
    "            # Traverse the array from 0 to n - i - 1, swap if the element found is greater\n",
    "            # than the next element\n",
    "            if arr[j] > arr[j + 1]:\n",
    "                arr[j], arr[j + 1] = arr[j + 1], arr[j]\n",
    "\n",
    "# Example usage\n",
    "points = [64, 34, 25, 12, 22, 11, 90]\n",
    "print(\"Original array:\", points)\n",
    "\n",
    "bubble_sort(points)\n",
    "\n",
    "print(\"Sorted array:\", points)\n"
   ]
  }
 ],
 "metadata": {
  "kernelspec": {
   "display_name": "Python 3",
   "language": "python",
   "name": "python3"
  },
  "language_info": {
   "name": "python",
   "version": "3.12.1"
  }
 },
 "nbformat": 4,
 "nbformat_minor": 2
}
