{
 "cells": [
  {
   "cell_type": "markdown",
   "id": "62bb18bd",
   "metadata": {},
   "source": [
    "#### Python Basics\n",
    "-   Created by Guido van Rossum in 1991.\n",
    "-   It is used for Web Development (server-side), software development, mathematics, system scripting."
   ]
  },
  {
   "cell_type": "markdown",
   "id": "9b87e89e",
   "metadata": {},
   "source": [
    "#### Variables and Data Types in Python\n",
    "\n",
    "- Python has (A - Z), (a - z), _ , (0 - 9) as identifiers to create a variable.\n",
    "- Data Types in Python are string, integer, float, boolean, list, tuple, set, dictionary"
   ]
  },
  {
   "cell_type": "code",
   "execution_count": 1,
   "id": "7eb4454e-30a9-416a-92bb-fb182dc5de50",
   "metadata": {},
   "outputs": [
    {
     "name": "stdout",
     "output_type": "stream",
     "text": [
      "Hello World\n"
     ]
    }
   ],
   "source": [
    "# Hello World Program in Python\n",
    "\n",
    "print(\"Hello World\")"
   ]
  },
  {
   "cell_type": "code",
   "execution_count": 2,
   "id": "89820cdc",
   "metadata": {},
   "outputs": [],
   "source": [
    "\n",
    "a = 4           # a is type of int\n",
    "b = \"John Doe\"  # b is type of string\n",
    "c = 3.14        # c is a float\n",
    "d = True        # d is a boolean"
   ]
  },
  {
   "cell_type": "markdown",
   "id": "d4636f4b",
   "metadata": {},
   "source": [
    "#### Type Casting:\n",
    "\n",
    "- It meants that we can convert a data type into different data type."
   ]
  },
  {
   "cell_type": "code",
   "execution_count": 3,
   "id": "b6fbd38d",
   "metadata": {},
   "outputs": [],
   "source": [
    "\n",
    "x = str(3)      # x is '3'     \n",
    "y = int(3)      # y is 3\n",
    "z = float(3)    # z is 3.0"
   ]
  },
  {
   "cell_type": "markdown",
   "id": "6f99b3da",
   "metadata": {},
   "source": [
    "#### Get Type of Data:\n",
    "\n",
    "- We use <b>typeof()</b> function for getting the type of data."
   ]
  },
  {
   "cell_type": "code",
   "execution_count": 4,
   "id": "f73c3ff9",
   "metadata": {},
   "outputs": [
    {
     "name": "stdout",
     "output_type": "stream",
     "text": [
      "<class 'int'>\n",
      "<class 'str'>\n",
      "<class 'float'>\n",
      "<class 'bool'>\n"
     ]
    }
   ],
   "source": [
    "print(type(a))\n",
    "print(type(b))\n",
    "print(type(c))\n",
    "print(type(d))"
   ]
  },
  {
   "cell_type": "markdown",
   "id": "2cc6e741",
   "metadata": {},
   "source": [
    "### Note:\n",
    "\n",
    "1.  String variables can be declared either by using single quotes or double quotes.\n",
    "    - m = \"John\" \n",
    "    - n = 'John'\n",
    "    - They both are the same.\n",
    "\n",
    "2. Variables are Case Sensitive.\n",
    "    - p = 6\n",
    "    - P = \"nine\"\n",
    "\n",
    "    - Here p will not override P"
   ]
  },
  {
   "cell_type": "code",
   "execution_count": 5,
   "id": "961a217a",
   "metadata": {},
   "outputs": [
    {
     "name": "stdout",
     "output_type": "stream",
     "text": [
      "10\n",
      "abcd\n"
     ]
    }
   ],
   "source": [
    "aa = 10\n",
    "AA = \"abcd\"\n",
    "\n",
    "print(aa)\n",
    "print(AA)"
   ]
  },
  {
   "cell_type": "markdown",
   "id": "cfea44b7",
   "metadata": {},
   "source": [
    "### More Data Types:\n",
    "1. Lists [ ]:\n",
    "    - mutable data type.\n",
    "    - can use different element types.\n",
    "    - can have duplicates.\n",
    "    - length can be found using <b>len()</b> function.\n",
    "    - Syntax: my_list = [1, 2, 3.0, \"hello\"]"
   ]
  },
  {
   "cell_type": "code",
   "execution_count": 6,
   "id": "c9981ecd",
   "metadata": {},
   "outputs": [
    {
     "name": "stdout",
     "output_type": "stream",
     "text": [
      "Original List: [1, 2, 3, 'apple', 'banana', True]\n",
      "Element at index 2: 3\n",
      "Sliced List: [2, 3, 'apple']\n",
      "List after modifying: [100, 2, 3, 'apple', 'banana', True]\n",
      "List after appending: [100, 2, 3, 'apple', 'banana', True, 'orange']\n",
      "List after removing 'banana': [100, 2, 3, 'apple', True, 'orange']\n",
      "Is 'apple' in the list? True\n",
      "Iterating through the list:\n",
      "100\n",
      "2\n",
      "3\n",
      "apple\n",
      "True\n",
      "orange\n"
     ]
    }
   ],
   "source": [
    "# Creating a list\n",
    "my_list = [1, 2, 3, 'apple', 'banana', True]\n",
    "\n",
    "# Displaying the list\n",
    "print(\"Original List:\", my_list)\n",
    "\n",
    "# Accessing elements by index\n",
    "print(\"Element at index 2:\", my_list[2])\n",
    "\n",
    "# Slicing the list\n",
    "print(\"Sliced List:\", my_list[1:4])\n",
    "\n",
    "# Modifying an element\n",
    "my_list[0] = 100\n",
    "print(\"List after modifying:\", my_list)\n",
    "\n",
    "# Appending an element to the end\n",
    "my_list.append('orange')\n",
    "print(\"List after appending:\", my_list)\n",
    "\n",
    "# Removing an element by value\n",
    "my_list.remove('banana')\n",
    "print(\"List after removing 'banana':\", my_list)\n",
    "\n",
    "# Checking if an element is in the list\n",
    "print(\"Is 'apple' in the list?\", 'apple' in my_list)\n",
    "\n",
    "# Iterating through the list\n",
    "print(\"Iterating through the list:\")\n",
    "for element in my_list:\n",
    "    print(element)\n"
   ]
  },
  {
   "cell_type": "markdown",
   "id": "bdde4057",
   "metadata": {},
   "source": [
    "2. Tuples ( ):\n",
    "    - immutable data type.\n",
    "    - can use different element types.\n",
    "    - created using paranthesis \"()\"\n",
    "    - Syntax: my_tuple = (1, 2, 3.0 ,\"hello)"
   ]
  },
  {
   "cell_type": "code",
   "execution_count": 7,
   "id": "e7935ec3",
   "metadata": {},
   "outputs": [
    {
     "name": "stdout",
     "output_type": "stream",
     "text": [
      "Original Tuple: (1, 2, 3, 'apple', 'banana', True)\n",
      "Element at index 2: 3\n",
      "Sliced Tuple: (2, 3, 'apple')\n",
      "Is 'apple' in the tuple? True\n",
      "Iterating through the tuple:\n",
      "1\n",
      "2\n",
      "3\n",
      "apple\n",
      "banana\n",
      "True\n"
     ]
    }
   ],
   "source": [
    "# Creating a tuple\n",
    "my_tuple = (1, 2, 3, 'apple', 'banana', True)\n",
    "\n",
    "# Displaying the tuple\n",
    "print(\"Original Tuple:\", my_tuple)\n",
    "\n",
    "# Accessing elements by index\n",
    "print(\"Element at index 2:\", my_tuple[2])\n",
    "\n",
    "# Slicing the tuple\n",
    "print(\"Sliced Tuple:\", my_tuple[1:4])\n",
    "\n",
    "# Since tuples are immutable, modifying an element is not allowed\n",
    "# Uncommenting the line below would result in an error\n",
    "# my_tuple[0] = 100\n",
    "\n",
    "# Checking if an element is in the tuple\n",
    "print(\"Is 'apple' in the tuple?\", 'apple' in my_tuple)\n",
    "\n",
    "# Iterating through the tuple\n",
    "print(\"Iterating through the tuple:\")\n",
    "for element in my_tuple:\n",
    "    print(element)"
   ]
  },
  {
   "cell_type": "markdown",
   "id": "e8133f2c",
   "metadata": {},
   "source": [
    "3. Sets { }:\n",
    "    - unordered collection of unique elements.\n",
    "    - created using \"{ }\" or <b>set()</b> constructor."
   ]
  },
  {
   "cell_type": "code",
   "execution_count": 8,
   "id": "3aa3796f",
   "metadata": {},
   "outputs": [
    {
     "name": "stdout",
     "output_type": "stream",
     "text": [
      "Original Set: {1, 2, 3, 4, 5}\n",
      "Set after adding 6: {1, 2, 3, 4, 5, 6}\n",
      "Set after removing 3: {1, 2, 4, 5, 6}\n",
      "Is 5 in the set? True\n",
      "Iterating through the set:\n",
      "1\n",
      "2\n",
      "4\n",
      "5\n",
      "6\n"
     ]
    }
   ],
   "source": [
    "# Creating a set\n",
    "my_set = {1, 2, 3, 4, 5}\n",
    "\n",
    "# Displaying the set\n",
    "print(\"Original Set:\", my_set)\n",
    "\n",
    "# Adding an element to the set\n",
    "my_set.add(6)\n",
    "print(\"Set after adding 6:\", my_set)\n",
    "\n",
    "# Removing an element from the set\n",
    "my_set.remove(3)\n",
    "print(\"Set after removing 3:\", my_set)\n",
    "\n",
    "# Checking if an element is in the set\n",
    "print(\"Is 5 in the set?\", 5 in my_set)\n",
    "\n",
    "# Iterating through the set\n",
    "print(\"Iterating through the set:\")\n",
    "for element in my_set:\n",
    "    print(element)\n"
   ]
  },
  {
   "cell_type": "markdown",
   "id": "f518801d",
   "metadata": {},
   "source": [
    "4. Dictionary:\n",
    "    - key-value pairs.\n",
    "    - allows efficient lookups.\n",
    "    - created using { }. "
   ]
  },
  {
   "cell_type": "code",
   "execution_count": 9,
   "id": "b5a274cc",
   "metadata": {},
   "outputs": [
    {
     "name": "stdout",
     "output_type": "stream",
     "text": [
      "Original Dictionary: {'name': 'John', 'age': 25, 'city': 'New York'}\n",
      "Age: 25\n",
      "Dictionary after modifying age: {'name': 'John', 'age': 26, 'city': 'New York'}\n",
      "Dictionary after adding occupation: {'name': 'John', 'age': 26, 'city': 'New York', 'occupation': 'Engineer'}\n",
      "Dictionary after removing city: {'name': 'John', 'age': 26, 'occupation': 'Engineer'}\n",
      "Is 'name' a key in the dictionary? True\n",
      "Iterating through the dictionary:\n",
      "name : John\n",
      "age : 26\n",
      "occupation : Engineer\n"
     ]
    }
   ],
   "source": [
    "# Creating a dictionary\n",
    "my_dict = {'name': 'John', 'age': 25, 'city': 'New York'}\n",
    "\n",
    "# Displaying the dictionary\n",
    "print(\"Original Dictionary:\", my_dict)\n",
    "\n",
    "# Accessing values by key\n",
    "print(\"Age:\", my_dict['age'])\n",
    "\n",
    "# Modifying a value\n",
    "my_dict['age'] = 26\n",
    "print(\"Dictionary after modifying age:\", my_dict)\n",
    "\n",
    "# Adding a new key-value pair\n",
    "my_dict['occupation'] = 'Engineer'\n",
    "print(\"Dictionary after adding occupation:\", my_dict)\n",
    "\n",
    "# Removing a key-value pair by key\n",
    "del my_dict['city']\n",
    "print(\"Dictionary after removing city:\", my_dict)\n",
    "\n",
    "# Checking if a key is in the dictionary\n",
    "print(\"Is 'name' a key in the dictionary?\", 'name' in my_dict)\n",
    "\n",
    "# Iterating through the dictionary\n",
    "print(\"Iterating through the dictionary:\")\n",
    "for key, value in my_dict.items():\n",
    "    print(key, \":\", value)"
   ]
  },
  {
   "cell_type": "markdown",
   "id": "9c5c30f1",
   "metadata": {},
   "source": [
    "## Conditional Statements:\n",
    "-   Python supports the usual logical conditions from mathematics:\n",
    "\n",
    "    1. Equals: a == b\n",
    "    2. Not Equals: a != b\n",
    "    3. Less than: a < b\n",
    "    4. Less than or equal to: a <= b\n",
    "    5. Greater than: a > b\n",
    "    6. Greater than or equal to: a >= b\n",
    "    7. These conditions can be used in several ways, most commonly in \"if statements\" and loops."
   ]
  },
  {
   "cell_type": "code",
   "execution_count": 10,
   "id": "daadfa41",
   "metadata": {},
   "outputs": [
    {
     "name": "stdout",
     "output_type": "stream",
     "text": [
      "a is not equal to b\n",
      "a is not equal to b\n",
      "a is less than b\n",
      "a is less than or equal to b\n",
      "a is not greater than b\n",
      "a is neither greater than nor equal to b\n"
     ]
    }
   ],
   "source": [
    "# Example variables\n",
    "a = 10\n",
    "b = 20\n",
    "\n",
    "# Equal to\n",
    "if a == b:\n",
    "    print(\"a is equal to b\")\n",
    "else:\n",
    "    print(\"a is not equal to b\")\n",
    "\n",
    "# Not equal to\n",
    "if a != b:\n",
    "    print(\"a is not equal to b\")\n",
    "else:\n",
    "    print(\"a is equal to b\")\n",
    "\n",
    "# Less than\n",
    "if a < b:\n",
    "    print(\"a is less than b\")\n",
    "else:\n",
    "    print(\"a is not less than b\")\n",
    "\n",
    "# Less than or equal to\n",
    "if a <= b:\n",
    "    print(\"a is less than or equal to b\")\n",
    "else:\n",
    "    print(\"a is neither less than nor equal to b\")\n",
    "\n",
    "# Greater than\n",
    "if a > b:\n",
    "    print(\"a is greater than b\")\n",
    "else:\n",
    "    print(\"a is not greater than b\")\n",
    "\n",
    "# Greater than or equal to\n",
    "if a >= b:\n",
    "    print(\"a is greater than or equal to b\")\n",
    "else:\n",
    "    print(\"a is neither greater than nor equal to b\")\n"
   ]
  },
  {
   "cell_type": "markdown",
   "id": "e17b6733",
   "metadata": {},
   "source": [
    "## Loops\n",
    "\n",
    "1. For Loop:\n",
    "    - A <b>for</b> loop is used for iterating over a sequence (that is either a list, tuple, dictionary, set, or string)"
   ]
  },
  {
   "cell_type": "code",
   "execution_count": 11,
   "id": "8ffe5c70",
   "metadata": {},
   "outputs": [
    {
     "name": "stdout",
     "output_type": "stream",
     "text": [
      "1\n",
      "2\n",
      "3\n",
      "4\n",
      "5\n"
     ]
    }
   ],
   "source": [
    "# Example list\n",
    "numbers = [1, 2, 3, 4, 5]\n",
    "\n",
    "# Using a for loop to iterate over the list\n",
    "for num in numbers:\n",
    "    print(num)\n"
   ]
  },
  {
   "cell_type": "markdown",
   "id": "5700ef60",
   "metadata": {},
   "source": [
    "2. While Loop:\n",
    "\n",
    "    - A <b>while</b> loop is used to repeatedly execute a block of code as long as the specified condition is true"
   ]
  },
  {
   "cell_type": "code",
   "execution_count": 12,
   "id": "fa3a9025",
   "metadata": {},
   "outputs": [
    {
     "name": "stdout",
     "output_type": "stream",
     "text": [
      "0\n",
      "1\n",
      "2\n",
      "3\n",
      "4\n"
     ]
    }
   ],
   "source": [
    "# Example variable\n",
    "count = 0\n",
    "\n",
    "# Using a while loop to iterate until a condition is met\n",
    "while count < 5:\n",
    "    print(count)\n",
    "    count += 1\n"
   ]
  },
  {
   "cell_type": "markdown",
   "id": "317e6185",
   "metadata": {},
   "source": [
    "## Python Fucntions:\n",
    "\n",
    "    - A function is a block of code which only runs when it is called.\n",
    "    - You can pass data, known as parameters, into a function.\n",
    "    - A function can return data as a result."
   ]
  },
  {
   "cell_type": "code",
   "execution_count": 13,
   "id": "a8e25db8",
   "metadata": {},
   "outputs": [
    {
     "name": "stdout",
     "output_type": "stream",
     "text": [
      "The sum is: 7\n"
     ]
    }
   ],
   "source": [
    "# Define a function named add_numbers\n",
    "def add_numbers(a, b):\n",
    "    \"\"\"This function adds two numbers.\"\"\"\n",
    "    result = a + b\n",
    "    return result\n",
    "\n",
    "# Call the function with arguments 3 and 4\n",
    "sum_result = add_numbers(3, 4)\n",
    "\n",
    "# Display the result\n",
    "print(\"The sum is:\", sum_result)\n"
   ]
  }
 ],
 "metadata": {
  "kernelspec": {
   "display_name": "Python 3 (ipykernel)",
   "language": "python",
   "name": "python3"
  },
  "language_info": {
   "codemirror_mode": {
    "name": "ipython",
    "version": 3
   },
   "file_extension": ".py",
   "mimetype": "text/x-python",
   "name": "python",
   "nbconvert_exporter": "python",
   "pygments_lexer": "ipython3",
   "version": "3.12.1"
  }
 },
 "nbformat": 4,
 "nbformat_minor": 5
}
